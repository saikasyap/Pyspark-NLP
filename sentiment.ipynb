{
 "cells": [
  {
   "cell_type": "markdown",
   "metadata": {},
   "source": [
    "# Sentiment Analysis "
   ]
  },
  {
   "cell_type": "code",
   "execution_count": 5,
   "metadata": {},
   "outputs": [],
   "source": [
    "import os\n",
    "import re\n",
    "\n",
    "import numpy as np\n",
    "import pandas as pd\n",
    "\n",
    "from pyspark.sql.types import *\n",
    "from pyspark.sql.functions import expr\n",
    "from pyspark.sql import Row\n",
    "from pyspark.ml import Pipeline\n",
    "from pyspark.ml.feature import *\n",
    "from pyspark.ml.clustering import LDA\n",
    "from pyspark.ml.classification import LogisticRegression\n",
    "from pyspark.ml.tuning import CrossValidator, ParamGridBuilder\n",
    "from pyspark.ml.evaluation import MulticlassClassificationEvaluator\n",
    "from pyspark.sql import functions as F\n",
    "import sparknlp\n",
    "from sparknlp import DocumentAssembler, Finisher\n",
    "from sparknlp.annotator import *\n",
    "from sparknlp.annotator import StopWordsCleaner\n",
    "%matplotlib inline\n",
    "from sparknlp.annotator import PerceptronModel\n",
    "spark = sparknlp.start()\n",
    "from pyspark.sql.functions import udf, explode\n",
    "from pyspark.sql.types import *\n",
    "from pyspark.ml.feature import CountVectorizer,StringIndexer, RegexTokenizer,StopWordsRemover\n",
    "from sparknlp.annotator import NGramGenerator\n",
    "from sparknlp.pretrained import PretrainedPipeline"
   ]
  },
  {
   "cell_type": "code",
   "execution_count": 6,
   "metadata": {},
   "outputs": [],
   "source": [
    "dataPath = \"C:/Users/saika/Desktop/Pyspark/data/shopee_reviews.csv\"\n",
    "df = spark.read.csv(dataPath, header='true', inferSchema = 'true')"
   ]
  },
  {
   "cell_type": "code",
   "execution_count": 7,
   "metadata": {},
   "outputs": [
    {
     "name": "stdout",
     "output_type": "stream",
     "text": [
      "+--------------------+--------------------+\n",
      "|               label|                text|\n",
      "+--------------------+--------------------+\n",
      "|                   5|Looks ok. Not lik...|\n",
      "|                   5|Tried, the curren...|\n",
      "|                   5|Item received aft...|\n",
      "|                   5|Thanks!!! Works a...|\n",
      "|                   5|Fast delivery con...|\n",
      "|                   5|Fast delivery goo...|\n",
      "|                   5|Got my order and ...|\n",
      "|                   5|Items received in...|\n",
      "|                   5|Received in good ...|\n",
      "|                   1|Item doesn’t work . |\n",
      "|Asked me to send ...| show a non worki...|\n",
      "|Don’t waste time ...|                null|\n",
      "|                   5|         Fast. Great|\n",
      "|                   5|I've tried it, an...|\n",
      "|                   5|Hub uses it. Musc...|\n",
      "|                   5|Well received. Fa...|\n",
      "|                   5|Product received....|\n",
      "|                   5|             Good.. |\n",
      "|                   5|box was a little ...|\n",
      "|                   4|Fast delivery, ho...|\n",
      "+--------------------+--------------------+\n",
      "only showing top 20 rows\n",
      "\n"
     ]
    }
   ],
   "source": [
    "df.show()"
   ]
  },
  {
   "cell_type": "code",
   "execution_count": 9,
   "metadata": {},
   "outputs": [
    {
     "name": "stdout",
     "output_type": "stream",
     "text": [
      "+------------------------------------------------------------------------------------------+\n",
      "|                                                                                      text|\n",
      "+------------------------------------------------------------------------------------------+\n",
      "|   Looks ok. Not like so durable. Will hv to use a while to recommend others of its worth.|\n",
      "|Tried, the current can be very powerful depending on the setting, i don't dare to go hi...|\n",
      "|               Item received after a week. Looks smaller than expected, can’t wait to try!|\n",
      "|Thanks!!! Works as describe no complaints. Not really expecting any life changing resul...|\n",
      "|Fast delivery considering it’s from overseas and only tried once. Not sure about the re...|\n",
      "+------------------------------------------------------------------------------------------+\n",
      "\n"
     ]
    }
   ],
   "source": [
    "df.na.drop(subset=[\"text\"])\n",
    "from pyspark.sql.functions import trim\n",
    "text1 = df.withColumn(\"text\", trim(df.text))\n",
    "text = text1.select('text').filter(F.col('text').isNotNull())\n",
    "\n",
    "text.limit(5).show(truncate=90)"
   ]
  },
  {
   "cell_type": "code",
   "execution_count": 11,
   "metadata": {},
   "outputs": [
    {
     "name": "stdout",
     "output_type": "stream",
     "text": [
      "analyze_sentiment download started this may take some time.\n",
      "Approx size to download 4.9 MB\n",
      "[OK!]\n",
      "+--------------------+--------------------+--------------------+\n",
      "|                text|              result|            metadata|\n",
      "+--------------------+--------------------+--------------------+\n",
      "|Looks ok. Not lik...|[negative, negati...|[[confidence -> 0...|\n",
      "|Tried, the curren...|          [positive]|[[confidence -> 0...|\n",
      "|Item received aft...|[negative, positive]|[[confidence -> 0...|\n",
      "|Thanks!!! Works a...|[positive, positi...|[[confidence -> 1...|\n",
      "|Fast delivery con...|[negative, positive]|[[confidence -> 0...|\n",
      "|Fast delivery goo...|          [positive]|[[confidence -> 0...|\n",
      "|Got my order and ...|[positive, positi...|[[confidence -> 0...|\n",
      "|Items received in...|[negative, negative]|[[confidence -> 0...|\n",
      "|Received in good ...|[positive, negative]|[[confidence -> 0...|\n",
      "| Item doesn’t work .|          [negative]|[[confidence -> 0...|\n",
      "|show a non workin...|          [negative]|[[confidence -> 0...|\n",
      "|         Fast. Great|[negative, positive]|[[confidence -> 0...|\n",
      "|I've tried it, an...|          [negative]|[[confidence -> 0...|\n",
      "|Hub uses it. Musc...|[negative, positive]|[[confidence -> 0...|\n",
      "|Well received. Fa...|[positive, negati...|[[confidence -> 0...|\n",
      "|Product received....|[negative, positi...|[[confidence -> 0...|\n",
      "|              Good..|[positive, negative]|[[confidence -> 0...|\n",
      "|box was a little ...|[negative, positive]|[[confidence -> 0...|\n",
      "|Fast delivery, ho...|[positive, negative]|[[confidence -> 0...|\n",
      "|Fast delivery, pr...|[negative, negati...|[[confidence -> 0...|\n",
      "+--------------------+--------------------+--------------------+\n",
      "only showing top 20 rows\n",
      "\n"
     ]
    }
   ],
   "source": [
    "pipeline = PretrainedPipeline(\"analyze_sentiment\", lang=\"en\")\n",
    "\n",
    "sent_df = pipeline.transform(text)\n",
    "sent_df = sent_df.select('text','sentiment.result' ,'sentiment.metadata' )\n",
    "sent_df.show(truncate = True)"
   ]
  },
  {
   "cell_type": "markdown",
   "metadata": {},
   "source": [
    "Results For Shopping Review Data"
   ]
  },
  {
   "cell_type": "code",
   "execution_count": 12,
   "metadata": {
    "scrolled": true
   },
   "outputs": [
    {
     "name": "stdout",
     "output_type": "stream",
     "text": [
      "+--------------------+--------+----------+\n",
      "|                text|  result|confidence|\n",
      "+--------------------+--------+----------+\n",
      "|Looks ok. Not lik...|negative|    0.5262|\n",
      "|Tried, the curren...|positive|    0.5033|\n",
      "|Item received aft...|negative|    0.5102|\n",
      "|Thanks!!! Works a...|positive|       1.0|\n",
      "|Fast delivery con...|negative|    0.5473|\n",
      "|Fast delivery goo...|positive|     0.849|\n",
      "|Got my order and ...|positive|    0.4772|\n",
      "|Items received in...|negative|    0.5068|\n",
      "|Received in good ...|positive|     0.461|\n",
      "| Item doesn’t work .|negative|    0.5143|\n",
      "|show a non workin...|negative|    0.5178|\n",
      "|         Fast. Great|negative|     0.514|\n",
      "|I've tried it, an...|negative|    0.5701|\n",
      "|Hub uses it. Musc...|negative|    0.5288|\n",
      "|Well received. Fa...|positive|    0.4973|\n",
      "|Product received....|negative|     0.514|\n",
      "|              Good..|positive|    0.4922|\n",
      "|box was a little ...|negative|    0.5261|\n",
      "|Fast delivery, ho...|positive|     0.519|\n",
      "|Fast delivery, pr...|negative|     0.559|\n",
      "+--------------------+--------+----------+\n",
      "only showing top 20 rows\n",
      "\n"
     ]
    },
    {
     "data": {
      "text/plain": [
       "1519300"
      ]
     },
     "execution_count": 12,
     "metadata": {},
     "output_type": "execute_result"
    }
   ],
   "source": [
    "\n",
    "\n",
    "@udf(StringType())\n",
    "def get_result(sent_result):\n",
    "    result = sent_result[0]\n",
    "    return str(result)\n",
    "\n",
    "@udf(FloatType())\n",
    "def get_conf(sent_conf):\n",
    "    result = sent_conf[0]\n",
    "    conf = result.get('confidence')\n",
    "    return float(conf)\n",
    "\n",
    "df_sent_result = sent_df.select('text',get_result(F.col('result')).alias('result'),get_conf('metadata').alias('confidence') ) #\n",
    "df_sent_result.na.drop(subset=[\"confidence\"])\n",
    "df_sent_result.show()\n",
    "df_sent_result.count()"
   ]
  },
  {
   "cell_type": "code",
   "execution_count": 21,
   "metadata": {
    "scrolled": false
   },
   "outputs": [],
   "source": []
  },
  {
   "cell_type": "code",
   "execution_count": null,
   "metadata": {},
   "outputs": [],
   "source": []
  },
  {
   "cell_type": "code",
   "execution_count": null,
   "metadata": {},
   "outputs": [],
   "source": []
  },
  {
   "cell_type": "code",
   "execution_count": null,
   "metadata": {},
   "outputs": [],
   "source": []
  },
  {
   "cell_type": "code",
   "execution_count": null,
   "metadata": {},
   "outputs": [],
   "source": []
  }
 ],
 "metadata": {
  "kernelspec": {
   "display_name": "Python 3",
   "language": "python",
   "name": "python3"
  },
  "language_info": {
   "codemirror_mode": {
    "name": "ipython",
    "version": 3
   },
   "file_extension": ".py",
   "mimetype": "text/x-python",
   "name": "python",
   "nbconvert_exporter": "python",
   "pygments_lexer": "ipython3",
   "version": "3.7.8"
  }
 },
 "nbformat": 4,
 "nbformat_minor": 4
}
